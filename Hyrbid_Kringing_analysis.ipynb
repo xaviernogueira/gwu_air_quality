{
 "cells": [
  {
   "cell_type": "markdown",
   "id": "b0d3450d-d04e-4361-bcdf-f9a3157aa280",
   "metadata": {},
   "source": [
    "# Hybrid-Kringing independent variable analysis (ML preprocessing)"
   ]
  },
  {
   "cell_type": "markdown",
   "id": "279c34dc-66ba-4de1-9be4-45be0eb7ba64",
   "metadata": {},
   "source": [
    "**Justification:** Wong et al., 2021 (10.1016/j.jclepro.2021.128411) found that using Hyr"
   ]
  }
 ],
 "metadata": {
  "kernelspec": {
   "display_name": "Python 3 (ipykernel)",
   "language": "python",
   "name": "python3"
  },
  "language_info": {
   "codemirror_mode": {
    "name": "ipython",
    "version": 3
   },
   "file_extension": ".py",
   "mimetype": "text/x-python",
   "name": "python",
   "nbconvert_exporter": "python",
   "pygments_lexer": "ipython3",
   "version": "3.9.7"
  }
 },
 "nbformat": 4,
 "nbformat_minor": 5
}
