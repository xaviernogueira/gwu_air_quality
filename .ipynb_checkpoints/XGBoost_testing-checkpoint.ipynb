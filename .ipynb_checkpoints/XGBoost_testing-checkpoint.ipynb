{
 "cells": [
  {
   "cell_type": "markdown",
   "id": "dd1543b3-f9c1-4085-bd9c-8b6b7f267936",
   "metadata": {},
   "source": [
    "### A place to test xgboost and scikit-learn APIs"
   ]
  },
  {
   "cell_type": "code",
   "execution_count": 4,
   "id": "3dac9647-75a4-4fed-9338-8ce2b5b7ed12",
   "metadata": {},
   "outputs": [
    {
     "name": "stdout",
     "output_type": "stream",
     "text": [
      "Using xgboost version 1.4.2\n",
      "Using scikit-learn version 1.0\n"
     ]
    }
   ],
   "source": [
    "import xgboost as xgb\n",
    "import sklearn\n",
    "import pandas as pd\n",
    "import numpy as np\n",
    "import datetime as dt\n",
    "import matplotlib as mpl\n",
    "import matplotlib as mpl\n",
    "import matplotlib.pyplot as plt\n",
    "import matplotlib.cm as cm\n",
    "import cartopy.crs as ccrs\n",
    "import cartopy.feature as cfeature\n",
    "from cartopy.io import shapereader\n",
    "from sklearn.datasets import make_classification\n",
    "from sklearn.model_selection import train_test_split\n",
    "import ipympl\n",
    "print('Using xgboost version %s' % xgb.__version__)\n",
    "print('Using scikit-learn version %s' % sklearn.__version__)"
   ]
  },
  {
   "cell_type": "code",
   "execution_count": 5,
   "id": "609d5b62-4b7f-44cb-be0f-615774b2501b",
   "metadata": {},
   "outputs": [
    {
     "data": {
      "text/html": [
       "<div>\n",
       "<style scoped>\n",
       "    .dataframe tbody tr th:only-of-type {\n",
       "        vertical-align: middle;\n",
       "    }\n",
       "\n",
       "    .dataframe tbody tr th {\n",
       "        vertical-align: top;\n",
       "    }\n",
       "\n",
       "    .dataframe thead th {\n",
       "        text-align: right;\n",
       "    }\n",
       "</style>\n",
       "<table border=\"1\" class=\"dataframe\">\n",
       "  <thead>\n",
       "    <tr style=\"text-align: right;\">\n",
       "      <th></th>\n",
       "      <th>ISO8601</th>\n",
       "      <th>stationID</th>\n",
       "      <th>original_station_name</th>\n",
       "      <th>lat</th>\n",
       "      <th>lon</th>\n",
       "      <th>country</th>\n",
       "      <th>obstype</th>\n",
       "      <th>unit</th>\n",
       "      <th>value</th>\n",
       "      <th>CityKey</th>\n",
       "    </tr>\n",
       "  </thead>\n",
       "  <tbody>\n",
       "    <tr>\n",
       "      <th>0</th>\n",
       "      <td>2018-01-01 02:00:00</td>\n",
       "      <td>Station0003058</td>\n",
       "      <td>Bayonne</td>\n",
       "      <td>40.6702</td>\n",
       "      <td>-74.1261</td>\n",
       "      <td>US</td>\n",
       "      <td>no2</td>\n",
       "      <td>ppbv</td>\n",
       "      <td>5.0</td>\n",
       "      <td>NewYork</td>\n",
       "    </tr>\n",
       "    <tr>\n",
       "      <th>1</th>\n",
       "      <td>2018-01-01 12:00:00</td>\n",
       "      <td>Station0003058</td>\n",
       "      <td>Bayonne</td>\n",
       "      <td>40.6702</td>\n",
       "      <td>-74.1261</td>\n",
       "      <td>US</td>\n",
       "      <td>no2</td>\n",
       "      <td>ppbv</td>\n",
       "      <td>12.0</td>\n",
       "      <td>NewYork</td>\n",
       "    </tr>\n",
       "    <tr>\n",
       "      <th>2</th>\n",
       "      <td>2018-01-01 14:00:00</td>\n",
       "      <td>Station0003058</td>\n",
       "      <td>Bayonne</td>\n",
       "      <td>40.6702</td>\n",
       "      <td>-74.1261</td>\n",
       "      <td>US</td>\n",
       "      <td>no2</td>\n",
       "      <td>ppbv</td>\n",
       "      <td>4.0</td>\n",
       "      <td>NewYork</td>\n",
       "    </tr>\n",
       "    <tr>\n",
       "      <th>3</th>\n",
       "      <td>2018-01-01 17:00:00</td>\n",
       "      <td>Station0003058</td>\n",
       "      <td>Bayonne</td>\n",
       "      <td>40.6702</td>\n",
       "      <td>-74.1261</td>\n",
       "      <td>US</td>\n",
       "      <td>no2</td>\n",
       "      <td>ppbv</td>\n",
       "      <td>1.0</td>\n",
       "      <td>NewYork</td>\n",
       "    </tr>\n",
       "    <tr>\n",
       "      <th>4</th>\n",
       "      <td>2018-01-01 20:00:00</td>\n",
       "      <td>Station0003058</td>\n",
       "      <td>Bayonne</td>\n",
       "      <td>40.6702</td>\n",
       "      <td>-74.1261</td>\n",
       "      <td>US</td>\n",
       "      <td>no2</td>\n",
       "      <td>ppbv</td>\n",
       "      <td>2.0</td>\n",
       "      <td>NewYork</td>\n",
       "    </tr>\n",
       "  </tbody>\n",
       "</table>\n",
       "</div>"
      ],
      "text/plain": [
       "              ISO8601       stationID original_station_name      lat      lon  \\\n",
       "0 2018-01-01 02:00:00  Station0003058               Bayonne  40.6702 -74.1261   \n",
       "1 2018-01-01 12:00:00  Station0003058               Bayonne  40.6702 -74.1261   \n",
       "2 2018-01-01 14:00:00  Station0003058               Bayonne  40.6702 -74.1261   \n",
       "3 2018-01-01 17:00:00  Station0003058               Bayonne  40.6702 -74.1261   \n",
       "4 2018-01-01 20:00:00  Station0003058               Bayonne  40.6702 -74.1261   \n",
       "\n",
       "  country obstype  unit  value  CityKey  \n",
       "0      US     no2  ppbv    5.0  NewYork  \n",
       "1      US     no2  ppbv   12.0  NewYork  \n",
       "2      US     no2  ppbv    4.0  NewYork  \n",
       "3      US     no2  ppbv    1.0  NewYork  \n",
       "4      US     no2  ppbv    2.0  NewYork  "
      ]
     },
     "execution_count": 5,
     "metadata": {},
     "output_type": "execute_result"
    }
   ],
   "source": [
    "# load test no2 observation data\n",
    "obsfile = 'https://gmao.gsfc.nasa.gov/gmaoftp/geoscf/COVID_NO2/examples/obs.csv'\n",
    "obsdat = pd.read_csv(obsfile, parse_dates=['ISO8601'], date_parser=lambda x: dt.datetime.strptime(x, '%Y-%m-%dT%H:%M:%SZ'))\n",
    "allobs = obsdat.loc[(obsdat['obstype']=='no2') & (obsdat['country']=='US')] # extracts no2 from US observations only\n",
    "allobs.head()"
   ]
  },
  {
   "cell_type": "code",
   "execution_count": null,
   "id": "cfa37ec8-b2eb-424b-849b-a192b97470bb",
   "metadata": {},
   "outputs": [],
   "source": [
    "# load test GEOS-CF data for the same location points as the observations (samples)\n",
    "modfile = 'https://gmao.gsfc.nasa.gov/gmaoftp/geoscf/COVID_NO2/examples/model.csv'\n",
    "model = pd.read_csv(modfile,parse_dates=['ISO8601'],date_parser=lambda x: dt.datetime.strptime(x, '%Y-%m-%dT%H:%M:%SZ'))\n",
    "model.head()"
   ]
  },
  {
   "cell_type": "code",
   "execution_count": null,
   "id": "53344cf4-d78f-4c22-ad1a-21c5705348f6",
   "metadata": {},
   "outputs": [],
   "source": [
    "# merge model and observation datasets by location and calculate residual\n",
    "Xall = allobs.merge(model, how='inner', on='ISO8601')\n",
    "Yall = Xall['value'] - Xall['NO2'] # subtracts modeled NO2 from measured NO2 ('value'), i.e., the residual\n",
    "\n",
    "Xall.head()"
   ]
  },
  {
   "cell_type": "code",
   "execution_count": null,
   "id": "4914c97d-8fc0-4302-863b-5feda26be530",
   "metadata": {},
   "outputs": [],
   "source": [
    "print(Yall)"
   ]
  },
  {
   "cell_type": "code",
   "execution_count": null,
   "id": "cf4a4113-d6a6-4b9b-a687-13293467fd81",
   "metadata": {},
   "outputs": [],
   "source": [
    "# clean up data further by dropping columns\n",
    "DROPVARS = ['location','original_station_name','lat','lon','unit','year','stationID', 'country', 'obstype', 'CityKey']\n",
    "_ = [Xall.pop(var) for var in DROPVARS if var in Xall] # takes away all listed columns\n",
    "Xall.drop(_, axis=1, inplace=True) # drops columns in DROPVAR \n",
    "\n",
    "values = Xall.pop('value') # pulls out just the residual\n",
    "print(Xall.columns)"
   ]
  },
  {
   "cell_type": "code",
   "execution_count": null,
   "id": "72c8fbd6-904e-469c-8a01-6442b129ec42",
   "metadata": {},
   "outputs": [],
   "source": [
    "# create 1/3 portion for training \n",
    "seed = 7\n",
    "test_size = 0.1\n",
    "\n",
    "\n",
    "Xsmall = Xall[:10000]\n",
    "Ysmall = Yall[:10000]\n",
    "print(Ysmall.size)\n",
    "print(Xsmall.columns)\n",
    "\n",
    "X_train, X_test, y_train, y_test = train_test_split(Xsmall, Ysmall, test_size=test_size)\n",
    "\n",
    "print(X_train)"
   ]
  },
  {
   "cell_type": "code",
   "execution_count": null,
   "id": "dddae97c-2239-49d9-ad8d-94f6b4639617",
   "metadata": {},
   "outputs": [],
   "source": [
    "# make Dmatrix which is the input for xgboost https://xgboost.readthedocs.io/en/latest/python/python_api.html#xgboost.DMatrix\n",
    "\n",
    "train = xgb.DMatrix(data=X_train, label=y_train) \n",
    "\n",
    "# choose parameters and train the model\n",
    "tree_method = 'hist'\n",
    "params = {'booster':'gbtree','tree_method':tree_method}\n",
    "\n",
    "bst = xgb.train(params, train)"
   ]
  },
  {
   "cell_type": "code",
   "execution_count": null,
   "id": "33cd402d-ace5-47c4-b409-7b80307ebfe1",
   "metadata": {},
   "outputs": [],
   "source": [
    "Xpredict = Xsmall.drop('ISO8601', axis=1)\n",
    "predict = xgb.DMatrix(data=Xpredict)\n",
    "predicted_bias = bst.predict(predict)\n",
    "\n",
    "predicted_conc = np.array(Xpredict['NO2'].values + predicted_bias) # predicted concentrations\n",
    "lat = np.array(Xpredict['lat_x'].values)\n",
    "lon = np.array(Xpredict['lon_x'].values)\n",
    "print(predicted_conc)\n",
    "print(lat)\n",
    "print(lon)\n",
    "if len(predicted_conc) == len(lat):\n",
    "    print('Ready to plot')"
   ]
  },
  {
   "cell_type": "code",
   "execution_count": null,
   "id": "07f6f859-f822-470b-8b12-6ae2db69167c",
   "metadata": {},
   "outputs": [],
   "source": [
    "%matplotlib widget\n",
    "proj = ccrs.PlateCarree()\n",
    "ax = plt.axes(projection=proj)\n",
    "bounds = [-118.6681779, -118.1552947, 33.659541, 34.337306] # los angeles\n",
    "ax.set_extent(bounds, crs=ccrs.PlateCarree())\n",
    "im = ax.scatter(lon, lat, c=predicted_conc, cmap=cm.coolwarm)\n",
    "\n",
    "\n",
    "# add geographic features (may not work unless on cartopy 0.20.0)\n",
    "ax.gridlines(proj, draw_labels=True, linestyle='--')\n",
    "ax.add_feature(cfeature.LAND)\n",
    "ax.add_feature(cfeature.OCEAN)\n",
    "ax.add_feature(cfeature.LAKES)\n",
    "ax.add_feature(cfeature.COASTLINE)\n",
    "ax.add_feature(cfeature.BORDERS)\n",
    "ax.add_feature(cfeature.STATES, linestyle=':')\n",
    "\n",
    "plt.colorbar(im, location='bottom', label='Predicted NO2 concentration')\n",
    "        "
   ]
  },
  {
   "cell_type": "code",
   "execution_count": null,
   "id": "132643ba-637b-4a27-9150-a70879990d32",
   "metadata": {},
   "outputs": [],
   "source": []
  },
  {
   "cell_type": "code",
   "execution_count": null,
   "id": "2c2c2020-486b-43e2-b98c-657f12f56416",
   "metadata": {},
   "outputs": [],
   "source": []
  },
  {
   "cell_type": "code",
   "execution_count": null,
   "id": "33f5cd3f-5c7f-4482-a727-d5d058062317",
   "metadata": {},
   "outputs": [],
   "source": []
  }
 ],
 "metadata": {
  "kernelspec": {
   "display_name": "Python 3 (ipykernel)",
   "language": "python",
   "name": "python3"
  },
  "language_info": {
   "codemirror_mode": {
    "name": "ipython",
    "version": 3
   },
   "file_extension": ".py",
   "mimetype": "text/x-python",
   "name": "python",
   "nbconvert_exporter": "python",
   "pygments_lexer": "ipython3",
   "version": "3.8.12"
  }
 },
 "nbformat": 4,
 "nbformat_minor": 5
}
