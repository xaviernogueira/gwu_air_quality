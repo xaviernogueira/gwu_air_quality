{
 "cells": [
  {
   "cell_type": "markdown",
   "id": "2ec21c82-572e-4cae-b943-249347ec9341",
   "metadata": {},
   "source": [
    "### This is an interactive notebook designed to visualize TROPOMI NO2 concentration data"
   ]
  },
  {
   "cell_type": "code",
   "execution_count": 1,
   "id": "464ea14b-f808-4fde-ad12-a472658cbb4e",
   "metadata": {},
   "outputs": [],
   "source": [
    "# import dependencies\n",
    "import tropomi_data_functions\n",
    "import"
   ]
  },
  {
   "cell_type": "code",
   "execution_count": null,
   "id": "972bb391-adc8-4efe-abd8-b99bce4b519e",
   "metadata": {},
   "outputs": [],
   "source": []
  }
 ],
 "metadata": {
  "kernelspec": {
   "display_name": "Python 3 (ipykernel)",
   "language": "python",
   "name": "python3"
  },
  "language_info": {
   "codemirror_mode": {
    "name": "ipython",
    "version": 3
   },
   "file_extension": ".py",
   "mimetype": "text/x-python",
   "name": "python",
   "nbconvert_exporter": "python",
   "pygments_lexer": "ipython3",
   "version": "3.8.11"
  }
 },
 "nbformat": 4,
 "nbformat_minor": 5
}
